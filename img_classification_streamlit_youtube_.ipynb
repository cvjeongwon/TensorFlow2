{
  "nbformat": 4,
  "nbformat_minor": 0,
  "metadata": {
    "colab": {
      "provenance": [],
      "include_colab_link": true
    },
    "kernelspec": {
      "name": "python3",
      "display_name": "Python 3"
    },
    "language_info": {
      "name": "python"
    }
  },
  "cells": [
    {
      "cell_type": "markdown",
      "metadata": {
        "id": "view-in-github",
        "colab_type": "text"
      },
      "source": [
        "<a href=\"https://colab.research.google.com/github/cvjeongwon/TensorFlow2/blob/main/img_classification_streamlit_youtube_.ipynb\" target=\"_parent\"><img src=\"https://colab.research.google.com/assets/colab-badge.svg\" alt=\"Open In Colab\"/></a>"
      ]
    },
    {
      "cell_type": "code",
      "execution_count": null,
      "metadata": {
        "colab": {
          "base_uri": "https://localhost:8080/"
        },
        "id": "hjak-M4LEiQa",
        "outputId": "2efea837-1396-4865-eebb-a7a6d2943193"
      },
      "outputs": [
        {
          "output_type": "stream",
          "name": "stdout",
          "text": [
            "Looking in indexes: https://pypi.org/simple, https://us-python.pkg.dev/colab-wheels/public/simple/\n",
            "Requirement already satisfied: pyngrok in /usr/local/lib/python3.9/dist-packages (5.2.1)\n",
            "Requirement already satisfied: PyYAML in /usr/local/lib/python3.9/dist-packages (from pyngrok) (6.0)\n"
          ]
        }
      ],
      "source": [
        "!pip install streamlit -q\n",
        "!pip install pyngrok"
      ]
    },
    {
      "cell_type": "code",
      "source": [
        "from pyngrok import ngrok\n",
        "\n",
        "ngrok.set_auth_token('2NdJEJgdK8Ub3Ob4PhfQLxMMTkD_5C5NP2fUyuuY5t5DhMBNX')"
      ],
      "metadata": {
        "colab": {
          "base_uri": "https://localhost:8080/"
        },
        "id": "9EKalaGtE2tX",
        "outputId": "4ff57556-6666-4565-f89c-363b68cb6b00"
      },
      "execution_count": null,
      "outputs": [
        {
          "output_type": "stream",
          "name": "stderr",
          "text": [
            "INFO:pyngrok.process:Updating authtoken for default \"config_path\" of \"ngrok_path\": /usr/local/lib/python3.9/dist-packages/pyngrok/bin/ngrok\n",
            "2023-03-28 07:40:37.490 Updating authtoken for default \"config_path\" of \"ngrok_path\": /usr/local/lib/python3.9/dist-packages/pyngrok/bin/ngrok\n"
          ]
        }
      ]
    },
    {
      "cell_type": "code",
      "source": [
        "%%writefile app.py\n",
        "\n",
        "import streamlit as st\n",
        "import tensorflow as tf\n",
        "from PIL import Image, ImageOps\n",
        "import numpy as np\n",
        "from tensorflow.keras.applications.imagenet_utils import decode_predictions\n",
        "\n",
        "resnet50_pre = tf.keras.applications.resnet.ResNet50(weights='imagenet' ,input_shape=(224,224,3) )\n",
        "\n",
        "st.title('이미지 분류 인공지능 웹페이지')\n",
        "file  = st.file_uploader('이미지를 올려주세요. ', type=['jpg', 'png'])\n",
        "\n",
        "if file is None:\n",
        "    st.text('이미지를 먼저 올려주세요.')\n",
        "else:\n",
        "    image = Image.open(file)\n",
        "    st.image(image, use_column_width=True)\n",
        "    img_resized = ImageOps.fit(image, (224,224), Image.ANTIALIAS)\n",
        "    img_resized = img_resized.convert('RGB')\n",
        "    img_resized = np.asarray(img_resized)\n",
        "\n",
        "    pred = resnet50_pre.predict(img_resized.reshape([1, 224,224, 3]))\n",
        "    decoded_pred = decode_predictions(pred)\n",
        "    results = ''\n",
        "    for i, instance in enumerate(decoded_pred[0]):\n",
        "        results += '{}위: {} ({:.2f}%) '.format(i+1, instance[1], instance[2] * 100)\n",
        "    st.success(results)"
      ],
      "metadata": {
        "colab": {
          "base_uri": "https://localhost:8080/"
        },
        "id": "qQMmiPF9Fwsj",
        "outputId": "a5e3b5ca-1f1c-45a3-df1f-15847e24316b"
      },
      "execution_count": null,
      "outputs": [
        {
          "output_type": "stream",
          "name": "stdout",
          "text": [
            "Writing app.py\n"
          ]
        }
      ]
    },
    {
      "cell_type": "code",
      "source": [
        "!ls"
      ],
      "metadata": {
        "colab": {
          "base_uri": "https://localhost:8080/"
        },
        "id": "foB64dxVI8pe",
        "outputId": "00e3f4d8-c504-4808-d293-b62626f6178f"
      },
      "execution_count": null,
      "outputs": [
        {
          "output_type": "stream",
          "name": "stdout",
          "text": [
            "app.py\tsample_data\n"
          ]
        }
      ]
    },
    {
      "cell_type": "code",
      "source": [
        "!cat app.py"
      ],
      "metadata": {
        "colab": {
          "base_uri": "https://localhost:8080/"
        },
        "id": "5C1Wpa_OI_ob",
        "outputId": "2e036cbe-c339-4a0e-8264-5bcbd321bf96"
      },
      "execution_count": null,
      "outputs": [
        {
          "output_type": "stream",
          "name": "stdout",
          "text": [
            "\n",
            "import streamlit as st\n",
            "import tensorflow as tf\n",
            "from PIL import Image, ImageOps\n",
            "import numpy as np\n",
            "from tensorflow.keras.applications.imagenet_utils import decode_predictions\n",
            "\n",
            "resnet50_pre = tf.keras.applications.resnet.ResNet50(weights='imagenet' ,input_shape=(224,224,3) )\n",
            "\n",
            "st.title('이미지 분류 인공지능 웹페이지')\n",
            "file  = st.file_uploader('이미지를 올려주세요. ', type=['jpg', 'png'])\n",
            "\n",
            "if file is None:\n",
            "    st.text('이미지를 먼저 올려주세요.')\n",
            "else:\n",
            "    image = Image.open(file)\n",
            "    st.image(image, use_column_width=True)\n",
            "    img_resized = ImageOps.fit(image, (224,224), Image.ANTIALIAS)\n",
            "    img_resized = img_resized.convert('RGB')\n",
            "    img_resized = np.asarray(img_resized)\n",
            "\n",
            "    pred = resnet50_pre.predict(img_resized.reshape([1, 224,224, 3]))\n",
            "    decoded_pred = decode_predictions(pred)\n",
            "    results = ''\n",
            "    for i, instance in enumerate(decoded_pred[0]):\n",
            "        results += '{}위: {} ({:.2f}%) '.format(i+1, instance[1], instance[2] * 100)\n",
            "    st.success(results)\n"
          ]
        }
      ]
    },
    {
      "cell_type": "code",
      "source": [
        "!nohup streamlit run app.py --server.port 80 &"
      ],
      "metadata": {
        "colab": {
          "base_uri": "https://localhost:8080/"
        },
        "id": "-kMJXUx7JEgr",
        "outputId": "1a69d7e5-fa57-4b99-83d5-d926e74aa7bf"
      },
      "execution_count": null,
      "outputs": [
        {
          "output_type": "stream",
          "name": "stdout",
          "text": [
            "nohup: appending output to 'nohup.out'\n"
          ]
        }
      ]
    },
    {
      "cell_type": "code",
      "source": [
        "url = ngrok.connect(port='80')\n",
        "url"
      ],
      "metadata": {
        "colab": {
          "base_uri": "https://localhost:8080/"
        },
        "id": "iUq6SYrqJVgJ",
        "outputId": "c04f77e6-6966-47fe-e7b6-11db77a681e2"
      },
      "execution_count": null,
      "outputs": [
        {
          "output_type": "stream",
          "name": "stderr",
          "text": [
            "INFO:pyngrok.ngrok:Opening tunnel named: http-80-872ec9bb-fae9-4999-a9e4-19bc04c1eafc\n",
            "2023-03-28 07:56:57.640 Opening tunnel named: http-80-872ec9bb-fae9-4999-a9e4-19bc04c1eafc\n",
            "INFO:pyngrok.process.ngrok:t=2023-03-28T07:56:57+0000 lvl=info msg=\"no configuration paths supplied\"\n",
            "2023-03-28 07:56:57.705 t=2023-03-28T07:56:57+0000 lvl=info msg=\"no configuration paths supplied\"\n",
            "INFO:pyngrok.process.ngrok:t=2023-03-28T07:56:57+0000 lvl=info msg=\"using configuration at default config path\" path=/root/.ngrok2/ngrok.yml\n",
            "2023-03-28 07:56:57.714 t=2023-03-28T07:56:57+0000 lvl=info msg=\"using configuration at default config path\" path=/root/.ngrok2/ngrok.yml\n",
            "INFO:pyngrok.process.ngrok:t=2023-03-28T07:56:57+0000 lvl=info msg=\"open config file\" path=/root/.ngrok2/ngrok.yml err=nil\n",
            "2023-03-28 07:56:57.731 t=2023-03-28T07:56:57+0000 lvl=info msg=\"open config file\" path=/root/.ngrok2/ngrok.yml err=nil\n",
            "INFO:pyngrok.process.ngrok:t=2023-03-28T07:56:57+0000 lvl=info msg=\"starting web service\" obj=web addr=127.0.0.1:4040\n",
            "2023-03-28 07:56:57.741 t=2023-03-28T07:56:57+0000 lvl=info msg=\"starting web service\" obj=web addr=127.0.0.1:4040\n",
            "INFO:pyngrok.process.ngrok:t=2023-03-28T07:56:57+0000 lvl=info msg=\"tunnel session started\" obj=tunnels.session\n",
            "2023-03-28 07:56:57.997 t=2023-03-28T07:56:57+0000 lvl=info msg=\"tunnel session started\" obj=tunnels.session\n",
            "INFO:pyngrok.process.ngrok:t=2023-03-28T07:56:57+0000 lvl=info msg=\"client session established\" obj=csess id=08dc4e122cfc\n",
            "2023-03-28 07:56:57.999 t=2023-03-28T07:56:57+0000 lvl=info msg=\"client session established\" obj=csess id=08dc4e122cfc\n",
            "INFO:pyngrok.process.ngrok:t=2023-03-28T07:56:58+0000 lvl=info msg=start pg=/api/tunnels id=fb753bda0aba6210\n",
            "2023-03-28 07:56:58.006 t=2023-03-28T07:56:58+0000 lvl=info msg=start pg=/api/tunnels id=fb753bda0aba6210\n",
            "INFO:pyngrok.process.ngrok:t=2023-03-28T07:56:58+0000 lvl=info msg=end pg=/api/tunnels id=fb753bda0aba6210 status=200 dur=423.281µs\n",
            "2023-03-28 07:56:58.021 t=2023-03-28T07:56:58+0000 lvl=info msg=end pg=/api/tunnels id=fb753bda0aba6210 status=200 dur=423.281µs\n",
            "INFO:pyngrok.process.ngrok:t=2023-03-28T07:56:58+0000 lvl=info msg=start pg=/api/tunnels id=58f55f6d16bfa761\n",
            "2023-03-28 07:56:58.028 t=2023-03-28T07:56:58+0000 lvl=info msg=start pg=/api/tunnels id=58f55f6d16bfa761\n",
            "INFO:pyngrok.process.ngrok:t=2023-03-28T07:56:58+0000 lvl=info msg=end pg=/api/tunnels id=58f55f6d16bfa761 status=200 dur=137.076µs\n",
            "2023-03-28 07:56:58.033 t=2023-03-28T07:56:58+0000 lvl=info msg=end pg=/api/tunnels id=58f55f6d16bfa761 status=200 dur=137.076µs\n",
            "INFO:pyngrok.process.ngrok:t=2023-03-28T07:56:58+0000 lvl=info msg=start pg=/api/tunnels id=d7d14be252b2d906\n",
            "2023-03-28 07:56:58.037 t=2023-03-28T07:56:58+0000 lvl=info msg=start pg=/api/tunnels id=d7d14be252b2d906\n",
            "INFO:pyngrok.process.ngrok:t=2023-03-28T07:56:58+0000 lvl=info msg=\"started tunnel\" obj=tunnels name=\"http-80-872ec9bb-fae9-4999-a9e4-19bc04c1eafc (http)\" addr=http://localhost:80 url=http://c76f-35-230-94-134.ngrok.io\n",
            "2023-03-28 07:56:58.174 t=2023-03-28T07:56:58+0000 lvl=info msg=\"started tunnel\" obj=tunnels name=\"http-80-872ec9bb-fae9-4999-a9e4-19bc04c1eafc (http)\" addr=http://localhost:80 url=http://c76f-35-230-94-134.ngrok.io\n",
            "INFO:pyngrok.process.ngrok:t=2023-03-28T07:56:58+0000 lvl=info msg=\"started tunnel\" obj=tunnels name=http-80-872ec9bb-fae9-4999-a9e4-19bc04c1eafc addr=http://localhost:80 url=https://c76f-35-230-94-134.ngrok.io\n",
            "2023-03-28 07:56:58.182 t=2023-03-28T07:56:58+0000 lvl=info msg=\"started tunnel\" obj=tunnels name=http-80-872ec9bb-fae9-4999-a9e4-19bc04c1eafc addr=http://localhost:80 url=https://c76f-35-230-94-134.ngrok.io\n"
          ]
        },
        {
          "output_type": "execute_result",
          "data": {
            "text/plain": [
              "<NgrokTunnel: \"http://c76f-35-230-94-134.ngrok.io\" -> \"http://localhost:80\">"
            ]
          },
          "metadata": {},
          "execution_count": 39
        },
        {
          "output_type": "stream",
          "name": "stderr",
          "text": [
            "INFO:pyngrok.process.ngrok:t=2023-03-28T07:56:58+0000 lvl=info msg=end pg=/api/tunnels id=d7d14be252b2d906 status=201 dur=158.783374ms\n",
            "2023-03-28 07:56:58.189 t=2023-03-28T07:56:58+0000 lvl=info msg=end pg=/api/tunnels id=d7d14be252b2d906 status=201 dur=158.783374ms\n",
            "INFO:pyngrok.process.ngrok:t=2023-03-28T07:56:58+0000 lvl=info msg=start pg=\"/api/tunnels/http-80-872ec9bb-fae9-4999-a9e4-19bc04c1eafc (http)\" id=cbef62898cb8e43e\n",
            "2023-03-28 07:56:58.194 t=2023-03-28T07:56:58+0000 lvl=info msg=start pg=\"/api/tunnels/http-80-872ec9bb-fae9-4999-a9e4-19bc04c1eafc (http)\" id=cbef62898cb8e43e\n",
            "INFO:pyngrok.process.ngrok:t=2023-03-28T07:56:58+0000 lvl=info msg=end pg=\"/api/tunnels/http-80-872ec9bb-fae9-4999-a9e4-19bc04c1eafc (http)\" id=cbef62898cb8e43e status=200 dur=276.919µs\n",
            "2023-03-28 07:56:58.199 t=2023-03-28T07:56:58+0000 lvl=info msg=end pg=\"/api/tunnels/http-80-872ec9bb-fae9-4999-a9e4-19bc04c1eafc (http)\" id=cbef62898cb8e43e status=200 dur=276.919µs\n"
          ]
        }
      ]
    },
    {
      "cell_type": "code",
      "source": [
        "ngrok.kill()"
      ],
      "metadata": {
        "id": "aPuQ9ayQJgzD"
      },
      "execution_count": null,
      "outputs": []
    },
    {
      "cell_type": "code",
      "source": [],
      "metadata": {
        "id": "MxSTEZLINOqr"
      },
      "execution_count": null,
      "outputs": []
    }
  ]
}