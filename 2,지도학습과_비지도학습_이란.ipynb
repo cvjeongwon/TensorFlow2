{
  "nbformat": 4,
  "nbformat_minor": 0,
  "metadata": {
    "colab": {
      "provenance": [],
      "authorship_tag": "ABX9TyP79VKPo/MMbajklAvESw6x",
      "include_colab_link": true
    },
    "kernelspec": {
      "name": "python3",
      "display_name": "Python 3"
    },
    "language_info": {
      "name": "python"
    }
  },
  "cells": [
    {
      "cell_type": "markdown",
      "metadata": {
        "id": "view-in-github",
        "colab_type": "text"
      },
      "source": [
        "<a href=\"https://colab.research.google.com/github/cvjeongwon/TensorFlow2/blob/main/2%2C%EC%A7%80%EB%8F%84%ED%95%99%EC%8A%B5%EA%B3%BC_%EB%B9%84%EC%A7%80%EB%8F%84%ED%95%99%EC%8A%B5_%EC%9D%B4%EB%9E%80.ipynb\" target=\"_parent\"><img src=\"https://colab.research.google.com/assets/colab-badge.svg\" alt=\"Open In Colab\"/></a>"
      ]
    },
    {
      "cell_type": "markdown",
      "source": [
        "# 지도학습(Supervised Learning)은 입력 값(x)과 정답(t, label)을 포함하는 Training Data를 이용하여 학습하고 , 그 학습된 결과를 바탕으로 미지의 데이터(Test Data)에 대해 미래 값을 예측(predict)하는 방법으로 대부분 머신러닝 문제는 지도학습에 해당 됨.\n",
        "# Supervised Learning - Regression, Classification\n",
        "- 지도학습은 학습결과를 바탕으로 미래의 무엇을 예측하느냐에 따라 <b><font color='red'> 회귀(Regression), 분류(Classification)</font></b>등으로 구분 할 수 있습니다.\n",
        "  - 회귀(Regression)은 Training Data을 이용하여 <b><font color='red'>연속적인(숫자) 값을 예측 </font></b>하는 것을 말하며, 집평수와 가격 관계, 공부시간과 시험성적 등의 관계임\n",
        "  - 분류(Classification)은 Training Data을 이용하여 <b><font color='red'>주어진 입력값이 어떤 종류의 값인지 구별</font></b>하는 것을 지칭함.\n",
        "\n",
        "1. 시험공부 시간(입력)과 시험성적(정답) 를 learning하고 학습한 결과를 바탕으로 입력데이터에 없는 공부시간을 입력하여 시험 성적을 예측하는 ML System을 구현 해보자\n",
        "2. 시험공부 시간을 입력데이터로 주어질때 정답으로 Pass/Fail을 이용하여 미지의 시험공부시간이 입력되었을때 Pass 또는 Fail을 예측하시오.\n",
        "3.  집 평수(입력)와 가격 데이터(정답)"
      ],
      "metadata": {
        "id": "Au_aQIWjVVnl"
      }
    },
    {
      "cell_type": "markdown",
      "source": [
        "# Unsupervised Learning\n",
        "-<b><font color='red'> 비지도학습(Unsupervised Learning)</font></b>은 트레이닝 데이터에 정답은 없고 입력 데이터만 있기 때문에, 입력에 대한 정답을 찾는 것이 아닌<b><font color='red'> 입력데이터의 패턴, 특성 등을 학습을 통해 발견하는 방법</fong></b>을 말합니다.\n",
        "\n",
        "  - 군집화(Clustering)알고리즘을 이용한 뉴스 그룹핑, 백화점의 상품 추천시스템 등"
      ],
      "metadata": {
        "id": "QX3WxY78YNGq"
      }
    },
    {
      "cell_type": "code",
      "source": [],
      "metadata": {
        "id": "go2f-od6ZZvT"
      },
      "execution_count": null,
      "outputs": []
    },
    {
      "cell_type": "markdown",
      "source": [],
      "metadata": {
        "id": "xDLk-b7oYLhF"
      }
    }
  ]
}