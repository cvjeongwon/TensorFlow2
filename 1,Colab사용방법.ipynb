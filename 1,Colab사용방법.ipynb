{
  "nbformat": 4,
  "nbformat_minor": 0,
  "metadata": {
    "colab": {
      "provenance": [],
      "mount_file_id": "1QN624Z-P81hmbYB_1dD6u2h1U3EbgaKz",
      "authorship_tag": "ABX9TyPbQzvIPRLmfXBMgZmiWz2B",
      "include_colab_link": true
    },
    "kernelspec": {
      "name": "python3",
      "display_name": "Python 3"
    },
    "language_info": {
      "name": "python"
    }
  },
  "cells": [
    {
      "cell_type": "markdown",
      "metadata": {
        "id": "view-in-github",
        "colab_type": "text"
      },
      "source": [
        "<a href=\"https://colab.research.google.com/github/cvjeongwon/TensorFlow2/blob/main/1%2CColab%EC%82%AC%EC%9A%A9%EB%B0%A9%EB%B2%95.ipynb\" target=\"_parent\"><img src=\"https://colab.research.google.com/assets/colab-badge.svg\" alt=\"Open In Colab\"/></a>"
      ]
    },
    {
      "cell_type": "code",
      "execution_count": null,
      "metadata": {
        "colab": {
          "base_uri": "https://localhost:8080/"
        },
        "id": "M3xV8IKRE3Mv",
        "outputId": "97cf6e9a-a958-4acc-f7de-c0f2d7e365c7"
      },
      "outputs": [
        {
          "output_type": "stream",
          "name": "stdout",
          "text": [
            "hello colab\n"
          ]
        }
      ],
      "source": [
        "print(\"hello colab\")"
      ]
    },
    {
      "cell_type": "code",
      "source": [],
      "metadata": {
        "id": "1cp-STp_FQWu"
      },
      "execution_count": null,
      "outputs": []
    },
    {
      "cell_type": "markdown",
      "source": [
        "## 리눅스 쉘 명령어 사용하기 위해 명령어 앞에 느낌표(!)붙여 Jupyter Notebook에서 바로 실행할 수 있다.\n",
        "1. Colab OS 종류  <br>\n",
        "!cat /etc/issue.net</p>\n",
        "2. Colab CPU 사양 <br>\n",
        "!head /proc/cpuinfo<br>\n",
        "3. 메모리 사양 <br>\n",
        "!head -n 3 /proc/meminfo <br>\n",
        "4. 디스크 사양 <br>\n",
        "!df -h <br>\n",
        "5. 현재 디렉토리 확인 <br>\n",
        "!pwd <br>\n",
        "6. 파일 목록 상세 보기 <br>\n",
        "!ls -al <br>\n",
        "7. python version 표시\n",
        "!python --version\n",
        "8. tensorflow 버전 확인 <br>\n",
        "\n",
        "import tensorflow as tf <br>\n",
        "print(tf.__version__) <br>\n",
        "\n",
        "9. 필요한 라이브러리 설치<br>\n",
        "!pip install tensorflow-hub <br>\n",
        "\n",
        "10. GPU 사용하기\n",
        "런타임 > 런타입 유형 변경 > 하드웨어 가속기는  GPU 선택\n",
        "\n",
        "11. Local File 읽고/쓰기\n",
        "\n",
        "12. Google Drive 연동\n",
        "\n",
        "13. GitHub 연동\n",
        "\n"
      ],
      "metadata": {
        "id": "16RtPz0gFz8c"
      }
    },
    {
      "cell_type": "code",
      "source": [
        "!cat /etc/issue.net"
      ],
      "metadata": {
        "colab": {
          "base_uri": "https://localhost:8080/"
        },
        "id": "pyNw4ffSIMPN",
        "outputId": "5aa8ca0a-bf83-4c83-9cad-a184dddebd96"
      },
      "execution_count": null,
      "outputs": [
        {
          "output_type": "stream",
          "name": "stdout",
          "text": [
            "Ubuntu 20.04.5 LTS\n"
          ]
        }
      ]
    },
    {
      "cell_type": "code",
      "source": [
        "!head /proc/cpuinfo"
      ],
      "metadata": {
        "colab": {
          "base_uri": "https://localhost:8080/"
        },
        "id": "FQwyMdUzK31O",
        "outputId": "e3a2519e-762a-4bd2-890c-7fc7f6f30f73"
      },
      "execution_count": null,
      "outputs": [
        {
          "output_type": "stream",
          "name": "stdout",
          "text": [
            "processor\t: 0\n",
            "vendor_id\t: GenuineIntel\n",
            "cpu family\t: 6\n",
            "model\t\t: 79\n",
            "model name\t: Intel(R) Xeon(R) CPU @ 2.20GHz\n",
            "stepping\t: 0\n",
            "microcode\t: 0xffffffff\n",
            "cpu MHz\t\t: 2199.998\n",
            "cache size\t: 56320 KB\n",
            "physical id\t: 0\n"
          ]
        }
      ]
    },
    {
      "cell_type": "code",
      "source": [
        "!head -n 3 /proc/meminfo"
      ],
      "metadata": {
        "colab": {
          "base_uri": "https://localhost:8080/"
        },
        "id": "z8T8443-K66u",
        "outputId": "8385aaea-f9f0-4827-bc40-97cd580c425a"
      },
      "execution_count": null,
      "outputs": [
        {
          "output_type": "stream",
          "name": "stdout",
          "text": [
            "MemTotal:       13297200 kB\n",
            "MemFree:         8418480 kB\n",
            "MemAvailable:   12333772 kB\n"
          ]
        }
      ]
    },
    {
      "cell_type": "code",
      "source": [
        "!df -h"
      ],
      "metadata": {
        "colab": {
          "base_uri": "https://localhost:8080/"
        },
        "id": "9lBIiEOTK_-u",
        "outputId": "2e8ca3e5-e786-4f9c-9ba1-ad39886b34f0"
      },
      "execution_count": null,
      "outputs": [
        {
          "output_type": "stream",
          "name": "stdout",
          "text": [
            "Filesystem      Size  Used Avail Use% Mounted on\n",
            "overlay         108G   26G   83G  24% /\n",
            "tmpfs            64M     0   64M   0% /dev\n",
            "shm             5.8G     0  5.8G   0% /dev/shm\n",
            "/dev/root       2.0G  1.1G  841M  58% /usr/sbin/docker-init\n",
            "tmpfs           6.4G  992K  6.4G   1% /var/colab\n",
            "/dev/sda1        70G   44G   26G  64% /etc/hosts\n",
            "tmpfs           6.4G     0  6.4G   0% /proc/acpi\n",
            "tmpfs           6.4G     0  6.4G   0% /proc/scsi\n",
            "tmpfs           6.4G     0  6.4G   0% /sys/firmware\n"
          ]
        }
      ]
    },
    {
      "cell_type": "code",
      "source": [
        "!pwd"
      ],
      "metadata": {
        "colab": {
          "base_uri": "https://localhost:8080/"
        },
        "id": "DO3TNAh2LEJF",
        "outputId": "567e92e2-557a-4707-d738-ef60ae09f5ff"
      },
      "execution_count": null,
      "outputs": [
        {
          "output_type": "stream",
          "name": "stdout",
          "text": [
            "/content\n"
          ]
        }
      ]
    },
    {
      "cell_type": "code",
      "source": [
        "!ls -al"
      ],
      "metadata": {
        "colab": {
          "base_uri": "https://localhost:8080/"
        },
        "id": "k96wj4ylLG00",
        "outputId": "eb0ddc92-5f9d-45be-a172-ff313200b5e8"
      },
      "execution_count": null,
      "outputs": [
        {
          "output_type": "stream",
          "name": "stdout",
          "text": [
            "total 16\n",
            "drwxr-xr-x 1 root root 4096 Mar 30 13:53 .\n",
            "drwxr-xr-x 1 root root 4096 Apr  3 12:25 ..\n",
            "drwxr-xr-x 4 root root 4096 Mar 30 13:52 .config\n",
            "drwxr-xr-x 1 root root 4096 Mar 30 13:53 sample_data\n"
          ]
        }
      ]
    },
    {
      "cell_type": "code",
      "source": [
        " !python --version"
      ],
      "metadata": {
        "colab": {
          "base_uri": "https://localhost:8080/"
        },
        "id": "oTvzR1EELJde",
        "outputId": "e49dfba1-d276-43a0-92eb-7233bd393dd4"
      },
      "execution_count": null,
      "outputs": [
        {
          "output_type": "stream",
          "name": "stdout",
          "text": [
            "Python 3.9.16\n"
          ]
        }
      ]
    },
    {
      "cell_type": "code",
      "source": [
        "import tensorflow as tf\n",
        "print(tf.version)"
      ],
      "metadata": {
        "colab": {
          "base_uri": "https://localhost:8080/"
        },
        "id": "8fTdql4VLNMW",
        "outputId": "36153943-89a8-4ea4-dc2a-25b5d8e437ec"
      },
      "execution_count": null,
      "outputs": [
        {
          "output_type": "stream",
          "name": "stdout",
          "text": [
            "<module 'tensorflow._api.v2.version' from '/usr/local/lib/python3.9/dist-packages/tensorflow/_api/v2/version/__init__.py'>\n"
          ]
        }
      ]
    },
    {
      "cell_type": "code",
      "source": [
        "# 로컬PC에 있는 쥬피터 노트북 파일 을 코랩으로 파일 업로드하는 방법 = 파일메뉴 > 노트 업노드 메뉴 > 로컬에 있는 쥬피트 노트 파일 선택택\n",
        "# Local PC에 있는 일반 파일 업로드(upload) : files.upload()\n",
        "\n",
        "from google.colab import files\n",
        "uploaded = files.upload()\n",
        "for fn in uploaded.keys():\n",
        "  print('user uploaded file\"{name}\" with length {length} bytes'.format(\n",
        "      name=fn, length=len(uploaded[fn])))"
      ],
      "metadata": {
        "colab": {
          "base_uri": "https://localhost:8080/",
          "height": 95
        },
        "id": "RZQn0WjgLQfW",
        "outputId": "94f4a342-4c9f-4922-8f73-c9cf05153794"
      },
      "execution_count": null,
      "outputs": [
        {
          "output_type": "display_data",
          "data": {
            "text/plain": [
              "<IPython.core.display.HTML object>"
            ],
            "text/html": [
              "\n",
              "     <input type=\"file\" id=\"files-9d98c8e1-2d87-4ae8-afbb-9d3f78eccfa9\" name=\"files[]\" multiple disabled\n",
              "        style=\"border:none\" />\n",
              "     <output id=\"result-9d98c8e1-2d87-4ae8-afbb-9d3f78eccfa9\">\n",
              "      Upload widget is only available when the cell has been executed in the\n",
              "      current browser session. Please rerun this cell to enable.\n",
              "      </output>\n",
              "      <script>// Copyright 2017 Google LLC\n",
              "//\n",
              "// Licensed under the Apache License, Version 2.0 (the \"License\");\n",
              "// you may not use this file except in compliance with the License.\n",
              "// You may obtain a copy of the License at\n",
              "//\n",
              "//      http://www.apache.org/licenses/LICENSE-2.0\n",
              "//\n",
              "// Unless required by applicable law or agreed to in writing, software\n",
              "// distributed under the License is distributed on an \"AS IS\" BASIS,\n",
              "// WITHOUT WARRANTIES OR CONDITIONS OF ANY KIND, either express or implied.\n",
              "// See the License for the specific language governing permissions and\n",
              "// limitations under the License.\n",
              "\n",
              "/**\n",
              " * @fileoverview Helpers for google.colab Python module.\n",
              " */\n",
              "(function(scope) {\n",
              "function span(text, styleAttributes = {}) {\n",
              "  const element = document.createElement('span');\n",
              "  element.textContent = text;\n",
              "  for (const key of Object.keys(styleAttributes)) {\n",
              "    element.style[key] = styleAttributes[key];\n",
              "  }\n",
              "  return element;\n",
              "}\n",
              "\n",
              "// Max number of bytes which will be uploaded at a time.\n",
              "const MAX_PAYLOAD_SIZE = 100 * 1024;\n",
              "\n",
              "function _uploadFiles(inputId, outputId) {\n",
              "  const steps = uploadFilesStep(inputId, outputId);\n",
              "  const outputElement = document.getElementById(outputId);\n",
              "  // Cache steps on the outputElement to make it available for the next call\n",
              "  // to uploadFilesContinue from Python.\n",
              "  outputElement.steps = steps;\n",
              "\n",
              "  return _uploadFilesContinue(outputId);\n",
              "}\n",
              "\n",
              "// This is roughly an async generator (not supported in the browser yet),\n",
              "// where there are multiple asynchronous steps and the Python side is going\n",
              "// to poll for completion of each step.\n",
              "// This uses a Promise to block the python side on completion of each step,\n",
              "// then passes the result of the previous step as the input to the next step.\n",
              "function _uploadFilesContinue(outputId) {\n",
              "  const outputElement = document.getElementById(outputId);\n",
              "  const steps = outputElement.steps;\n",
              "\n",
              "  const next = steps.next(outputElement.lastPromiseValue);\n",
              "  return Promise.resolve(next.value.promise).then((value) => {\n",
              "    // Cache the last promise value to make it available to the next\n",
              "    // step of the generator.\n",
              "    outputElement.lastPromiseValue = value;\n",
              "    return next.value.response;\n",
              "  });\n",
              "}\n",
              "\n",
              "/**\n",
              " * Generator function which is called between each async step of the upload\n",
              " * process.\n",
              " * @param {string} inputId Element ID of the input file picker element.\n",
              " * @param {string} outputId Element ID of the output display.\n",
              " * @return {!Iterable<!Object>} Iterable of next steps.\n",
              " */\n",
              "function* uploadFilesStep(inputId, outputId) {\n",
              "  const inputElement = document.getElementById(inputId);\n",
              "  inputElement.disabled = false;\n",
              "\n",
              "  const outputElement = document.getElementById(outputId);\n",
              "  outputElement.innerHTML = '';\n",
              "\n",
              "  const pickedPromise = new Promise((resolve) => {\n",
              "    inputElement.addEventListener('change', (e) => {\n",
              "      resolve(e.target.files);\n",
              "    });\n",
              "  });\n",
              "\n",
              "  const cancel = document.createElement('button');\n",
              "  inputElement.parentElement.appendChild(cancel);\n",
              "  cancel.textContent = 'Cancel upload';\n",
              "  const cancelPromise = new Promise((resolve) => {\n",
              "    cancel.onclick = () => {\n",
              "      resolve(null);\n",
              "    };\n",
              "  });\n",
              "\n",
              "  // Wait for the user to pick the files.\n",
              "  const files = yield {\n",
              "    promise: Promise.race([pickedPromise, cancelPromise]),\n",
              "    response: {\n",
              "      action: 'starting',\n",
              "    }\n",
              "  };\n",
              "\n",
              "  cancel.remove();\n",
              "\n",
              "  // Disable the input element since further picks are not allowed.\n",
              "  inputElement.disabled = true;\n",
              "\n",
              "  if (!files) {\n",
              "    return {\n",
              "      response: {\n",
              "        action: 'complete',\n",
              "      }\n",
              "    };\n",
              "  }\n",
              "\n",
              "  for (const file of files) {\n",
              "    const li = document.createElement('li');\n",
              "    li.append(span(file.name, {fontWeight: 'bold'}));\n",
              "    li.append(span(\n",
              "        `(${file.type || 'n/a'}) - ${file.size} bytes, ` +\n",
              "        `last modified: ${\n",
              "            file.lastModifiedDate ? file.lastModifiedDate.toLocaleDateString() :\n",
              "                                    'n/a'} - `));\n",
              "    const percent = span('0% done');\n",
              "    li.appendChild(percent);\n",
              "\n",
              "    outputElement.appendChild(li);\n",
              "\n",
              "    const fileDataPromise = new Promise((resolve) => {\n",
              "      const reader = new FileReader();\n",
              "      reader.onload = (e) => {\n",
              "        resolve(e.target.result);\n",
              "      };\n",
              "      reader.readAsArrayBuffer(file);\n",
              "    });\n",
              "    // Wait for the data to be ready.\n",
              "    let fileData = yield {\n",
              "      promise: fileDataPromise,\n",
              "      response: {\n",
              "        action: 'continue',\n",
              "      }\n",
              "    };\n",
              "\n",
              "    // Use a chunked sending to avoid message size limits. See b/62115660.\n",
              "    let position = 0;\n",
              "    do {\n",
              "      const length = Math.min(fileData.byteLength - position, MAX_PAYLOAD_SIZE);\n",
              "      const chunk = new Uint8Array(fileData, position, length);\n",
              "      position += length;\n",
              "\n",
              "      const base64 = btoa(String.fromCharCode.apply(null, chunk));\n",
              "      yield {\n",
              "        response: {\n",
              "          action: 'append',\n",
              "          file: file.name,\n",
              "          data: base64,\n",
              "        },\n",
              "      };\n",
              "\n",
              "      let percentDone = fileData.byteLength === 0 ?\n",
              "          100 :\n",
              "          Math.round((position / fileData.byteLength) * 100);\n",
              "      percent.textContent = `${percentDone}% done`;\n",
              "\n",
              "    } while (position < fileData.byteLength);\n",
              "  }\n",
              "\n",
              "  // All done.\n",
              "  yield {\n",
              "    response: {\n",
              "      action: 'complete',\n",
              "    }\n",
              "  };\n",
              "}\n",
              "\n",
              "scope.google = scope.google || {};\n",
              "scope.google.colab = scope.google.colab || {};\n",
              "scope.google.colab._files = {\n",
              "  _uploadFiles,\n",
              "  _uploadFilesContinue,\n",
              "};\n",
              "})(self);\n",
              "</script> "
            ]
          },
          "metadata": {}
        },
        {
          "output_type": "stream",
          "name": "stdout",
          "text": [
            "Saving Welcome to Hwp.hwp to Welcome to Hwp (1).hwp\n",
            "user uploaded file\"Welcome to Hwp.hwp\" with length 23552 bytes\n"
          ]
        }
      ]
    },
    {
      "cell_type": "code",
      "source": [
        "# 코랩에서 PC로 다운로드\n",
        "from google.colab import files\n",
        "import pandas as pd\n",
        "df = pd.DataFrame([[1,2,3],[4,5,6]])\n",
        "print(df)\n",
        "df.to_csv('test.csv')\n",
        "!ls -al\n",
        "files.download('test.csv')"
      ],
      "metadata": {
        "colab": {
          "base_uri": "https://localhost:8080/",
          "height": 219
        },
        "id": "fbXPxRK9NV7M",
        "outputId": "f42407cf-a99e-4ee5-97ee-8c672e4535ba"
      },
      "execution_count": null,
      "outputs": [
        {
          "output_type": "stream",
          "name": "stdout",
          "text": [
            "   0  1  2\n",
            "0  1  2  3\n",
            "1  4  5  6\n",
            "total 68\n",
            "drwxr-xr-x 1 root root  4096 Apr  3 13:06  .\n",
            "drwxr-xr-x 1 root root  4096 Apr  3 12:25  ..\n",
            "drwxr-xr-x 4 root root  4096 Mar 30 13:52  .config\n",
            "drwxr-xr-x 1 root root  4096 Mar 30 13:53  sample_data\n",
            "-rw-r--r-- 1 root root    23 Apr  3 13:07  test.csv\n",
            "-rw-r--r-- 1 root root 23552 Apr  3 13:02 'Welcome to Hwp (1).hwp'\n",
            "-rw-r--r-- 1 root root 23552 Apr  3 13:02 'Welcome to Hwp.hwp'\n"
          ]
        },
        {
          "output_type": "display_data",
          "data": {
            "text/plain": [
              "<IPython.core.display.Javascript object>"
            ],
            "application/javascript": [
              "\n",
              "    async function download(id, filename, size) {\n",
              "      if (!google.colab.kernel.accessAllowed) {\n",
              "        return;\n",
              "      }\n",
              "      const div = document.createElement('div');\n",
              "      const label = document.createElement('label');\n",
              "      label.textContent = `Downloading \"${filename}\": `;\n",
              "      div.appendChild(label);\n",
              "      const progress = document.createElement('progress');\n",
              "      progress.max = size;\n",
              "      div.appendChild(progress);\n",
              "      document.body.appendChild(div);\n",
              "\n",
              "      const buffers = [];\n",
              "      let downloaded = 0;\n",
              "\n",
              "      const channel = await google.colab.kernel.comms.open(id);\n",
              "      // Send a message to notify the kernel that we're ready.\n",
              "      channel.send({})\n",
              "\n",
              "      for await (const message of channel.messages) {\n",
              "        // Send a message to notify the kernel that we're ready.\n",
              "        channel.send({})\n",
              "        if (message.buffers) {\n",
              "          for (const buffer of message.buffers) {\n",
              "            buffers.push(buffer);\n",
              "            downloaded += buffer.byteLength;\n",
              "            progress.value = downloaded;\n",
              "          }\n",
              "        }\n",
              "      }\n",
              "      const blob = new Blob(buffers, {type: 'application/binary'});\n",
              "      const a = document.createElement('a');\n",
              "      a.href = window.URL.createObjectURL(blob);\n",
              "      a.download = filename;\n",
              "      div.appendChild(a);\n",
              "      a.click();\n",
              "      div.remove();\n",
              "    }\n",
              "  "
            ]
          },
          "metadata": {}
        },
        {
          "output_type": "display_data",
          "data": {
            "text/plain": [
              "<IPython.core.display.Javascript object>"
            ],
            "application/javascript": [
              "download(\"download_fe61c1ef-d51f-4403-adac-29c281a30369\", \"test.csv\", 23)"
            ]
          },
          "metadata": {}
        }
      ]
    },
    {
      "cell_type": "code",
      "source": [
        "# 코랩과 github연동 : 1) Cloning할 깃허브 Repository로 이동 2) Clone할 Web URL 복사 https://github.com/cvjeongwon/TensorFlow2.git\n",
        "!git clone https://github.com/cvjeongwon/TensorFlow2.git"
      ],
      "metadata": {
        "colab": {
          "base_uri": "https://localhost:8080/"
        },
        "id": "WpMELB4VORks",
        "outputId": "3d0be996-cfd2-4cc1-8721-c7bdc925a9f0"
      },
      "execution_count": null,
      "outputs": [
        {
          "output_type": "stream",
          "name": "stdout",
          "text": [
            "Cloning into 'TensorFlow2'...\n",
            "remote: Enumerating objects: 3, done.\u001b[K\n",
            "remote: Counting objects: 100% (3/3), done.\u001b[K\n",
            "remote: Total 3 (delta 0), reused 0 (delta 0), pack-reused 0\u001b[K\n",
            "Unpacking objects: 100% (3/3), 598 bytes | 598.00 KiB/s, done.\n"
          ]
        }
      ]
    },
    {
      "cell_type": "code",
      "source": [
        "!ls -al"
      ],
      "metadata": {
        "colab": {
          "base_uri": "https://localhost:8080/"
        },
        "id": "Vt3Al8a5Rsiu",
        "outputId": "5eba7a5b-166c-4bfc-a092-be667f857d53"
      },
      "execution_count": null,
      "outputs": [
        {
          "output_type": "stream",
          "name": "stdout",
          "text": [
            "total 72\n",
            "drwxr-xr-x 1 root root  4096 Apr  3 13:20  .\n",
            "drwxr-xr-x 1 root root  4096 Apr  3 12:25  ..\n",
            "drwxr-xr-x 4 root root  4096 Mar 30 13:52  .config\n",
            "drwxr-xr-x 1 root root  4096 Mar 30 13:53  sample_data\n",
            "drwxr-xr-x 3 root root  4096 Apr  3 13:20  TensorFlow2\n",
            "-rw-r--r-- 1 root root    23 Apr  3 13:07  test.csv\n",
            "-rw-r--r-- 1 root root 23552 Apr  3 13:02 'Welcome to Hwp (1).hwp'\n",
            "-rw-r--r-- 1 root root 23552 Apr  3 13:02 'Welcome to Hwp.hwp'\n"
          ]
        }
      ]
    },
    {
      "cell_type": "code",
      "source": [
        "# Colab과 Google Drive 연동\n",
        "# 연동이 되면 Google Drive에서 파일을 읽거나 저장할 수 있다.\n",
        "# Google Drive를 /content/working_drive/ 라는 이름으로 Colab에 마운트(mount) 시킬수 있음(working_dirve는 임의의 디렉토리 이름)\n",
        "# 만약 Colab과 Google Drive를 처음 연결하는 경우라면 Google Drive권한 요청하는데 제시된 URL 링크를 클릭하면 로그인과정을 거치면 비밀키 문자열을 복사하여 'Enter your authorization code' 입력상자에 붙여넣기하여 엔터 누르면 연동이 된다.\n",
        "from google.colab import drive\n",
        "drive.mount('/content/working_drive')"
      ],
      "metadata": {
        "colab": {
          "base_uri": "https://localhost:8080/"
        },
        "id": "E8s6TjR5RyUD",
        "outputId": "4869ca54-708b-4e46-badf-d0e9b3e59f48"
      },
      "execution_count": null,
      "outputs": [
        {
          "output_type": "stream",
          "name": "stdout",
          "text": [
            "Mounted at /content/working_drive\n"
          ]
        }
      ]
    },
    {
      "cell_type": "code",
      "source": [
        "!pwd"
      ],
      "metadata": {
        "colab": {
          "base_uri": "https://localhost:8080/"
        },
        "id": "ABEcLheHTT0i",
        "outputId": "9b56a619-9693-40bf-ba5c-2af4faf1d9bf"
      },
      "execution_count": null,
      "outputs": [
        {
          "output_type": "stream",
          "name": "stdout",
          "text": [
            "/content\n"
          ]
        }
      ]
    },
    {
      "cell_type": "code",
      "source": [
        "! ls -al"
      ],
      "metadata": {
        "colab": {
          "base_uri": "https://localhost:8080/"
        },
        "id": "tiklDnQjTnVB",
        "outputId": "3a6d454a-2ed0-4abf-82d3-0d70236441ee"
      },
      "execution_count": null,
      "outputs": [
        {
          "output_type": "stream",
          "name": "stdout",
          "text": [
            "ls: cannot access 'drive': Transport endpoint is not connected\n",
            "total 76\n",
            "drwxr-xr-x 1 root root  4096 Apr  3 13:27  .\n",
            "drwxr-xr-x 1 root root  4096 Apr  3 12:25  ..\n",
            "drwxr-xr-x 4 root root  4096 Mar 30 13:52  .config\n",
            "d????????? ? ?    ?        ?            ?  drive\n",
            "drwxr-xr-x 1 root root  4096 Mar 30 13:53  sample_data\n",
            "drwxr-xr-x 3 root root  4096 Apr  3 13:20  TensorFlow2\n",
            "-rw-r--r-- 1 root root    23 Apr  3 13:07  test.csv\n",
            "-rw-r--r-- 1 root root 23552 Apr  3 13:02 'Welcome to Hwp (1).hwp'\n",
            "-rw-r--r-- 1 root root 23552 Apr  3 13:02 'Welcome to Hwp.hwp'\n",
            "drwx------ 5 root root  4096 Apr  3 13:27  working_drive\n"
          ]
        }
      ]
    },
    {
      "cell_type": "code",
      "source": [],
      "metadata": {
        "id": "ugaknu1BTu1G"
      },
      "execution_count": null,
      "outputs": []
    },
    {
      "cell_type": "markdown",
      "source": [
        "# Colab에서 작성한 Jupyter Notebook(.ipynb) 파일을 Github에 업로드하려면 다음 단계를 따르면 됩니다:\n",
        "\n",
        "1. 먼저, Github 계정을 가지고 있어야 합니다. 계정이 없다면 Github에서 새로운 계정을 생성하세요.\n",
        "2. Github에 새로운 Repository를 만듭니다. 이때, \"Initialize this repository with a README\" 옵션을 선택하시면 됩니다.\n",
        "3. Colab에서 \"파일\" 메뉴를 선택하고 \"드라이브에 사본 저장\"을 선택합니다. 이렇게 하면 Colab에서 작성한 파일이 Google Drive에 저장됩니다.\n",
        "4. Google Drive에 저장된 파일을 로컬PC 에 다운로드 한다.\n",
        "5. Github Repository에 업로드할 폴더에 들어가서 \"Upload files\" 버튼을 클릭합니다.\n",
        "6. Colab에서 가져온 파일을 끌어다가 Github 업로드 페이지에 놓습니다. 이때, 파일 이름에 쥬피터노트북 파일 포맷(확장자)이 ipynb인지 확인해 주세요.\n",
        "7. 파일을 업로드하고, \"Commit changes\" 버튼을 클릭합니다.\n",
        "- 이제 Github Repository에 Colab Notebook 파일이 업로드된 것을 확인할 수 있습니다."
      ],
      "metadata": {
        "id": "NyLoj3F4gxbj"
      }
    },
    {
      "cell_type": "code",
      "source": [],
      "metadata": {
        "id": "F-p7vj18g-Mm"
      },
      "execution_count": null,
      "outputs": []
    }
  ]
}